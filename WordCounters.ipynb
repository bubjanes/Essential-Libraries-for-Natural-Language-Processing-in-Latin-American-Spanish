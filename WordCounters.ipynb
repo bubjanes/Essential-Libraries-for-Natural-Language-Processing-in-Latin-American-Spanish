{
 "cells": [
  {
   "cell_type": "code",
   "execution_count": 103,
   "metadata": {},
   "outputs": [],
   "source": [
    "import csv\n",
    "import pandas as pd\n",
    "import spacy\n",
    "import es_core_news_md"
   ]
  },
  {
   "cell_type": "code",
   "execution_count": 104,
   "metadata": {},
   "outputs": [],
   "source": [
    "def fetch_dataset(csv_file_name):\n",
    "    data = pd.read_csv(csv_file_name, sep=',')\n",
    "    text=data\n",
    "    return text"
   ]
  },
  {
   "cell_type": "code",
   "execution_count": 1,
   "metadata": {
    "scrolled": true
   },
   "outputs": [],
   "source": [
    "#INSERT THE FILE NAME BETWEEN THE PARENTHESIS, WITH QUOTES\n",
    "fetch_dataset()"
   ]
  },
  {
   "cell_type": "code",
   "execution_count": null,
   "metadata": {
    "scrolled": true
   },
   "outputs": [],
   "source": [
    "#THIS IS SET UP FOR SPANISH TEXT\n",
    "nlp = spacy.load('es_core_news_md')\n",
    "mydict = {}\n",
    "pos = []\n",
    "tokens = []\n",
    "occurr = []\n",
    "\n",
    "for sent in text:\n",
    "    doc = nlp(sent)\n",
    "    for token in doc:   \n",
    "        mydict[token] = token.pos_\n",
    "print(\"Number of tokens:\", len(mydict))\n",
    "\n",
    "for key,val in mydict.items():\n",
    "    tokens.append(str(key))\n",
    "    pos.append(val)\n",
    "    occurr.append(int(1))\n",
    "print(\"Three columns - python lists - preprocessed for your pandas dataframe: 'tokens', 'pos', and 'occurr'.\")"
   ]
  },
  {
   "cell_type": "code",
   "execution_count": null,
   "metadata": {},
   "outputs": [],
   "source": [
    "#LET'S MAKE A DATA FRAME\n",
    "df = pd.DataFrame({'TOKEN' : tokens, \n",
    "                  'POS' : pos,\n",
    "                 'occurr' : occurr})\n",
    "df.shape"
   ]
  },
  {
   "cell_type": "code",
   "execution_count": null,
   "metadata": {
    "scrolled": false
   },
   "outputs": [],
   "source": [
    "pos_count = df.groupby('POS')['TOKEN'].nunique()\n",
    "print('PART OF SPEECH BREAKDOWN')\n",
    "pos_count.sort_values(ascending=False)\n"
   ]
  },
  {
   "cell_type": "code",
   "execution_count": 93,
   "metadata": {},
   "outputs": [],
   "source": [
    "grup = df.groupby('POS')"
   ]
  },
  {
   "cell_type": "code",
   "execution_count": 94,
   "metadata": {},
   "outputs": [],
   "source": [
    "def get_word_hist(part_of_speech):\n",
    "    grup = g.get_group(part_of_speech)\n",
    "    grup_sum = grup.groupby('TOKEN')['occurr'].sum()\n",
    "    return grup_sum.sort_values(ascending=False)"
   ]
  },
  {
   "cell_type": "code",
   "execution_count": null,
   "metadata": {
    "scrolled": true
   },
   "outputs": [],
   "source": [
    "#ENTER PART OF SPEECH ABBREVIATION YOU WANT TO COUNT\n",
    "get_word_hist('ADJ')"
   ]
  }
 ],
 "metadata": {
  "kernelspec": {
   "display_name": "Python 3",
   "language": "python",
   "name": "python3"
  },
  "language_info": {
   "codemirror_mode": {
    "name": "ipython",
    "version": 3
   },
   "file_extension": ".py",
   "mimetype": "text/x-python",
   "name": "python",
   "nbconvert_exporter": "python",
   "pygments_lexer": "ipython3",
   "version": "3.7.1"
  }
 },
 "nbformat": 4,
 "nbformat_minor": 2
}
