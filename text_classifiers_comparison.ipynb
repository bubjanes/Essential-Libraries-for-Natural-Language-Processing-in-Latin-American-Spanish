{
 "cells": [
  {
   "cell_type": "markdown",
   "metadata": {},
   "source": [
    "## TEXT CLASSIFIERS: Multinomial Naive Bayes, Bernoulli Naive Bayes, Gaussian Naive Bayes, Logistical Regression, Stochastic Gradient Descent (SGD), Support Vector Classifier (SVC), Linear Support Vector, and SVC with number of support vectors specified"
   ]
  },
  {
   "cell_type": "code",
   "execution_count": 14,
   "metadata": {},
   "outputs": [],
   "source": [
    "import pandas as pd\n",
    "import numpy as np\n",
    "import nltk\n",
    "from sklearn.feature_extraction.text import CountVectorizer\n",
    "from sklearn.feature_extraction.text import TfidfVectorizer\n",
    "from sklearn.model_selection import train_test_split\n",
    "from sklearn.naive_bayes import MultinomialNB\n",
    "from nltk.corpus import stopwords"
   ]
  },
  {
   "cell_type": "code",
   "execution_count": 15,
   "metadata": {
    "scrolled": false
   },
   "outputs": [
    {
     "name": "stderr",
     "output_type": "stream",
     "text": [
      "[nltk_data] Downloading package stopwords to\n",
      "[nltk_data]     /Users/brandonjanes/nltk_data...\n",
      "[nltk_data]   Package stopwords is already up-to-date!\n"
     ]
    }
   ],
   "source": [
    "nltk.download('stopwords')\n",
    "stop_words = stopwords.words(\"spanish\")"
   ]
  },
  {
   "cell_type": "code",
   "execution_count": 34,
   "metadata": {
    "scrolled": false
   },
   "outputs": [],
   "source": [
    "#read dataset from csv\n",
    "df = pd.read_csv('mattermost_etiquetado.csv')"
   ]
  },
  {
   "cell_type": "code",
   "execution_count": 17,
   "metadata": {},
   "outputs": [],
   "source": [
    "# change type to bianary\n",
    "df.loc[df[\"type\"]=='consulta',\"type\"]=0\n",
    "df.loc[df[\"type\"]=='reclamo',\"type\"]=1"
   ]
  },
  {
   "cell_type": "code",
   "execution_count": 18,
   "metadata": {},
   "outputs": [],
   "source": [
    "df_x = df[\"text\"]\n",
    "df_y = df[\"type\"]"
   ]
  },
  {
   "cell_type": "code",
   "execution_count": 38,
   "metadata": {
    "scrolled": true
   },
   "outputs": [
    {
     "name": "stdout",
     "output_type": "stream",
     "text": [
      "12.177121771217712 percent of the messages are 'reclamos'.\n"
     ]
    }
   ],
   "source": [
    "#average of 'reclamos' versus 'consultas'\n",
    "reclamo_total = df_y.sum()\n",
    "total = df.type.count()\n",
    "average = reclamo_total / total\n",
    "print(average*100,\"percent of the messages are 'reclamos'.\")"
   ]
  },
  {
   "cell_type": "markdown",
   "metadata": {},
   "source": [
    "### If the percent of 'reclamos' is very low, this will cloud the accuracy of our classification accuracy calculator. For example, if the 'reclamo' percent is 10 percent, a dumb classifier, which predicts 'consulta' every time, would be 90 percent accurate. "
   ]
  },
  {
   "cell_type": "code",
   "execution_count": 6,
   "metadata": {},
   "outputs": [],
   "source": [
    "#split the data (this is a commonly used line of code)\n",
    "x_train, x_test, y_train, y_test = train_test_split(df_x, df_y, test_size=0.2, random_state=4)"
   ]
  },
  {
   "cell_type": "code",
   "execution_count": 7,
   "metadata": {},
   "outputs": [],
   "source": [
    "#for TYPE we need our bianary values to be integers\n",
    "y_train=y_train.astype('int')"
   ]
  },
  {
   "cell_type": "markdown",
   "metadata": {},
   "source": [
    "### Count Vectorizer"
   ]
  },
  {
   "cell_type": "code",
   "execution_count": 8,
   "metadata": {},
   "outputs": [],
   "source": [
    "cv = CountVectorizer()"
   ]
  },
  {
   "cell_type": "code",
   "execution_count": 9,
   "metadata": {},
   "outputs": [],
   "source": [
    "x_traincv=cv.fit_transform(x_train)"
   ]
  },
  {
   "cell_type": "code",
   "execution_count": 10,
   "metadata": {},
   "outputs": [
    {
     "data": {
      "text/plain": [
       "array([[0, 0, 0, ..., 0, 0, 0],\n",
       "       [0, 0, 0, ..., 0, 0, 0],\n",
       "       [0, 0, 0, ..., 0, 0, 0],\n",
       "       ...,\n",
       "       [0, 0, 0, ..., 0, 0, 0],\n",
       "       [0, 0, 0, ..., 0, 0, 0],\n",
       "       [0, 0, 0, ..., 0, 0, 0]], dtype=int64)"
      ]
     },
     "execution_count": 10,
     "metadata": {},
     "output_type": "execute_result"
    }
   ],
   "source": [
    "arrai=x_traincv.toarray()\n",
    "arrai"
   ]
  },
  {
   "cell_type": "code",
   "execution_count": 11,
   "metadata": {
    "scrolled": true
   },
   "outputs": [
    {
     "data": {
      "text/plain": [
       "['100',\n",
       " '11',\n",
       " '19',\n",
       " '1983',\n",
       " '2008',\n",
       " '2009',\n",
       " '2011',\n",
       " '351',\n",
       " '3515069733',\n",
       " '430000',\n",
       " '506973',\n",
       " '690',\n",
       " '790',\n",
       " '794',\n",
       " '80',\n",
       " '936',\n",
       " '97',\n",
       " 'ab235',\n",
       " 'abonaba',\n",
       " 'abonar',\n",
       " 'aca',\n",
       " 'accidente',\n",
       " 'acercar',\n",
       " 'actuó',\n",
       " 'acá',\n",
       " 'además',\n",
       " 'adherirse',\n",
       " 'agradezco',\n",
       " 'aguardo',\n",
       " 'ahi',\n",
       " 'ahora',\n",
       " 'al',\n",
       " 'alberto',\n",
       " 'algo',\n",
       " 'alguna',\n",
       " 'alta',\n",
       " 'andar',\n",
       " 'anterior',\n",
       " 'antes',\n",
       " 'anulada',\n",
       " 'aparece',\n",
       " 'apenas',\n",
       " 'aproximadamente',\n",
       " 'aqui',\n",
       " 'arriba',\n",
       " 'as',\n",
       " 'asegurado',\n",
       " 'asegurar',\n",
       " 'asesoro',\n",
       " 'asi',\n",
       " 'assistance',\n",
       " 'así',\n",
       " 'atención',\n",
       " 'atendian',\n",
       " 'atendieron',\n",
       " 'atras',\n",
       " 'atrás',\n",
       " 'atte',\n",
       " 'aumentan',\n",
       " 'auto',\n",
       " 'automovil',\n",
       " 'autos',\n",
       " 'averiguar',\n",
       " 'avise',\n",
       " 'aviso',\n",
       " 'ayer',\n",
       " 'bersion',\n",
       " 'bertuccelli_edo',\n",
       " 'bicicletas',\n",
       " 'bien',\n",
       " 'boleta',\n",
       " 'bonito',\n",
       " 'boton',\n",
       " 'breve',\n",
       " 'brindar',\n",
       " 'bs',\n",
       " 'bsas',\n",
       " 'buen',\n",
       " 'buena',\n",
       " 'buenas',\n",
       " 'buenisimo',\n",
       " 'bueno',\n",
       " 'buenos',\n",
       " 'bustos',\n",
       " 'cabrera',\n",
       " 'camioneta',\n",
       " 'cancelar',\n",
       " 'carol',\n",
       " 'casa',\n",
       " 'categoria',\n",
       " 'cba',\n",
       " 'cbu',\n",
       " 'celular',\n",
       " 'centro',\n",
       " 'cerca',\n",
       " 'chiquita',\n",
       " 'choco',\n",
       " 'chocó',\n",
       " 'cliente',\n",
       " 'clio',\n",
       " 'cobertura',\n",
       " 'coberturas',\n",
       " 'cobrar',\n",
       " 'colaboración',\n",
       " 'colonia',\n",
       " 'com',\n",
       " 'como',\n",
       " 'comparando',\n",
       " 'compañía',\n",
       " 'completo',\n",
       " 'comprobante',\n",
       " 'comunicar',\n",
       " 'con',\n",
       " 'conocer',\n",
       " 'consiste',\n",
       " 'consulta',\n",
       " 'consultar',\n",
       " 'consultarle',\n",
       " 'contactarnos',\n",
       " 'contestar',\n",
       " 'contestaron',\n",
       " 'conteste',\n",
       " 'contra',\n",
       " 'contratado',\n",
       " 'contratar',\n",
       " 'contratarlo',\n",
       " 'conté',\n",
       " 'conveniente',\n",
       " 'cordoba',\n",
       " 'correo',\n",
       " 'cosa',\n",
       " 'cosas',\n",
       " 'costara',\n",
       " 'cotisaron',\n",
       " 'cotizacion',\n",
       " 'cotización',\n",
       " 'cotizar',\n",
       " 'cotizaron',\n",
       " 'cotizas',\n",
       " 'credito',\n",
       " 'creo',\n",
       " 'cuadras',\n",
       " 'cual',\n",
       " 'cualquier',\n",
       " 'cuando',\n",
       " 'cuanto',\n",
       " 'cuarto',\n",
       " 'cuatrimestral',\n",
       " 'cubra',\n",
       " 'cubre',\n",
       " 'cuenta',\n",
       " 'cuentan',\n",
       " 'cuestiones',\n",
       " 'cuestión',\n",
       " 'cumplo',\n",
       " 'cuota',\n",
       " 'cupon',\n",
       " 'cupón',\n",
       " 'cuándo',\n",
       " 'cómo',\n",
       " 'dale',\n",
       " 'dan',\n",
       " 'dar',\n",
       " 'datos',\n",
       " 'day',\n",
       " 'de',\n",
       " 'deben',\n",
       " 'debo',\n",
       " 'decia',\n",
       " 'decime',\n",
       " 'decir',\n",
       " 'decís',\n",
       " 'deja',\n",
       " 'deje',\n",
       " 'del',\n",
       " 'demora',\n",
       " 'den',\n",
       " 'denuncia',\n",
       " 'desde',\n",
       " 'deseo',\n",
       " 'después',\n",
       " 'detallaba',\n",
       " 'dia',\n",
       " 'dias',\n",
       " 'dice',\n",
       " 'dicho',\n",
       " 'diego',\n",
       " 'dieron',\n",
       " 'dijeron',\n",
       " 'dirección',\n",
       " 'documentacion',\n",
       " 'documento',\n",
       " 'documentos',\n",
       " 'domingo',\n",
       " 'donde',\n",
       " 'dueño',\n",
       " 'débito',\n",
       " 'día',\n",
       " 'días',\n",
       " 'díganme',\n",
       " 'efectivamente',\n",
       " 'efectivo',\n",
       " 'eficientes',\n",
       " 'el',\n",
       " 'electrónico',\n",
       " 'en',\n",
       " 'encanta',\n",
       " 'encima',\n",
       " 'entero',\n",
       " 'entiendo',\n",
       " 'envarón',\n",
       " 'envia',\n",
       " 'envianos',\n",
       " 'enviar',\n",
       " 'enviarme',\n",
       " 'envio',\n",
       " 'envían',\n",
       " 'envíe',\n",
       " 'envíen',\n",
       " 'envío',\n",
       " 'equivocaron',\n",
       " 'es',\n",
       " 'esa',\n",
       " 'escribo',\n",
       " 'escudo',\n",
       " 'ese',\n",
       " 'eso',\n",
       " 'esperando',\n",
       " 'espero',\n",
       " 'esta',\n",
       " 'estaba',\n",
       " 'estamos',\n",
       " 'estanciera',\n",
       " 'estaría',\n",
       " 'estas',\n",
       " 'este',\n",
       " 'esto',\n",
       " 'estoy',\n",
       " 'está',\n",
       " 'etc',\n",
       " 'excelente',\n",
       " 'extraordinarios',\n",
       " 'f100',\n",
       " 'facil',\n",
       " 'falcon',\n",
       " 'falta',\n",
       " 'favor',\n",
       " 'fe',\n",
       " 'fierro',\n",
       " 'flete',\n",
       " 'fmk',\n",
       " 'ford',\n",
       " 'forma',\n",
       " 'foto',\n",
       " 'fotos',\n",
       " 'fritas',\n",
       " 'fui',\n",
       " 'genial',\n",
       " 'gnc',\n",
       " 'gol',\n",
       " 'graciaa',\n",
       " 'gracias',\n",
       " 'grupo',\n",
       " 'grúa',\n",
       " 'guardado',\n",
       " 'guiar',\n",
       " 'gusto',\n",
       " 'haber',\n",
       " 'habian',\n",
       " 'hablaba',\n",
       " 'hace',\n",
       " 'hacer',\n",
       " 'hacerle',\n",
       " 'hago',\n",
       " 'haran',\n",
       " 'hasta',\n",
       " 'hay',\n",
       " 'hecho',\n",
       " 'hice',\n",
       " 'hiper',\n",
       " 'hola',\n",
       " 'hora',\n",
       " 'horas',\n",
       " 'hotmail',\n",
       " 'hoy',\n",
       " 'hs',\n",
       " 'imagen',\n",
       " 'imprimir',\n",
       " 'inda',\n",
       " 'indicaron',\n",
       " 'info',\n",
       " 'informe',\n",
       " 'interesa',\n",
       " 'ir',\n",
       " 'ixc478',\n",
       " 'jajajajajaja',\n",
       " 'jerónimo',\n",
       " 'julio',\n",
       " 'ka1',\n",
       " 'kilos',\n",
       " 'la',\n",
       " 'lancha',\n",
       " 'lanchas',\n",
       " 'las',\n",
       " 'le',\n",
       " 'les',\n",
       " 'levantado',\n",
       " 'libertad',\n",
       " 'liliana',\n",
       " 'line',\n",
       " 'link',\n",
       " 'listo',\n",
       " 'llamaron',\n",
       " 'llave',\n",
       " 'llego',\n",
       " 'lo',\n",
       " 'localidad',\n",
       " 'los',\n",
       " 'lugar',\n",
       " 'luis',\n",
       " 'lujo',\n",
       " 'lunes',\n",
       " 'líder',\n",
       " 'mail',\n",
       " 'mandame',\n",
       " 'mandar',\n",
       " 'mandarme',\n",
       " 'mandaron',\n",
       " 'mande',\n",
       " 'marca',\n",
       " 'mariano',\n",
       " 'marido',\n",
       " 'mas',\n",
       " 'mascota',\n",
       " 'max',\n",
       " 'mañana',\n",
       " 'me',\n",
       " 'medios',\n",
       " 'mejor',\n",
       " 'menos',\n",
       " 'mensaje',\n",
       " 'mercado',\n",
       " 'mes',\n",
       " 'meses',\n",
       " 'mi',\n",
       " 'mira',\n",
       " 'misma',\n",
       " 'mismo',\n",
       " 'mod',\n",
       " 'modelo',\n",
       " 'monto',\n",
       " 'muchas',\n",
       " 'mucho',\n",
       " 'muy',\n",
       " 'más',\n",
       " 'mí',\n",
       " 'natalia',\n",
       " 'necesitaría',\n",
       " 'necesito',\n",
       " 'necesitó',\n",
       " 'nesecito',\n",
       " 'ni',\n",
       " 'niño',\n",
       " 'no',\n",
       " 'nomas',\n",
       " 'nombre',\n",
       " 'novedades',\n",
       " 'nueva',\n",
       " 'nuevamente',\n",
       " 'nuevo',\n",
       " 'numero',\n",
       " 'número',\n",
       " 'oficina',\n",
       " 'oficinas',\n",
       " 'oit199',\n",
       " 'ok',\n",
       " 'on',\n",
       " 'online',\n",
       " 'organización',\n",
       " 'otra',\n",
       " 'otro',\n",
       " 'otros',\n",
       " 'pablo',\n",
       " 'pagar',\n",
       " 'pagarlo',\n",
       " 'pagina',\n",
       " 'pago',\n",
       " 'pagofacil',\n",
       " 'pagos',\n",
       " 'pague',\n",
       " 'papeles',\n",
       " 'para',\n",
       " 'parcial',\n",
       " 'parece',\n",
       " 'pareja',\n",
       " 'parese',\n",
       " 'parte',\n",
       " 'partir',\n",
       " 'pasa',\n",
       " 'pasar',\n",
       " 'pasaron',\n",
       " 'pasaré',\n",
       " 'pasas',\n",
       " 'pase',\n",
       " 'paso',\n",
       " 'patente',\n",
       " 'pego',\n",
       " 'pendiente',\n",
       " 'pense',\n",
       " 'perdón',\n",
       " 'perfecto',\n",
       " 'permanentemente',\n",
       " 'pero',\n",
       " 'personal',\n",
       " 'personales',\n",
       " 'personalmente',\n",
       " 'peña',\n",
       " 'pide',\n",
       " 'poder',\n",
       " 'podes',\n",
       " 'podrias',\n",
       " 'podrá',\n",
       " 'podrían',\n",
       " 'podrías',\n",
       " 'podía',\n",
       " 'poliza',\n",
       " 'poner',\n",
       " 'ponían',\n",
       " 'por',\n",
       " 'porq',\n",
       " 'porque',\n",
       " 'power',\n",
       " 'precio',\n",
       " 'precios',\n",
       " 'pregunta',\n",
       " 'premura',\n",
       " 'presentar',\n",
       " 'presentarla',\n",
       " 'primera',\n",
       " 'promo',\n",
       " 'promocion',\n",
       " 'prueba',\n",
       " 'pruebas',\n",
       " 'ptas',\n",
       " 'pude',\n",
       " 'pudieron',\n",
       " 'puede',\n",
       " 'pueden',\n",
       " 'puedo',\n",
       " 'puerta',\n",
       " 'pv',\n",
       " 'póliza',\n",
       " 'que',\n",
       " 'quedan',\n",
       " 'quedaria',\n",
       " 'quedaría',\n",
       " 'queria',\n",
       " 'querian',\n",
       " 'quería',\n",
       " 'quevedo',\n",
       " 'quien',\n",
       " 'quiero',\n",
       " 'quisiera',\n",
       " 'qué',\n",
       " 'radicado',\n",
       " 'rapipago',\n",
       " 'recibida',\n",
       " 'recibo',\n",
       " 'recien',\n",
       " 'recién',\n",
       " 'recuerden',\n",
       " 'regata',\n",
       " 'regiria',\n",
       " 'regla',\n",
       " 'remolque',\n",
       " 'renovación',\n",
       " 'renovar',\n",
       " 'requisitos',\n",
       " 'resolví',\n",
       " 'respondemos',\n",
       " 'responder',\n",
       " 'respondo',\n",
       " 'responsable',\n",
       " 'respuesta',\n",
       " 'riesgo',\n",
       " 'rio',\n",
       " 'rivadavia',\n",
       " 'robo',\n",
       " 'rompió',\n",
       " 'roque',\n",
       " 'ruta',\n",
       " 'sabatini',\n",
       " 'sabattini',\n",
       " 'saber',\n",
       " 'sabido',\n",
       " 'sale',\n",
       " 'salen',\n",
       " 'salir',\n",
       " 'salía',\n",
       " 'sancor',\n",
       " 'sarsfield',\n",
       " 'saver',\n",
       " 'se',\n",
       " 'sea',\n",
       " 'sector',\n",
       " 'segunda',\n",
       " 'seguro',\n",
       " 'seis',\n",
       " 'semana',\n",
       " 'ser',\n",
       " 'seria',\n",
       " 'servicio',\n",
       " 'servir',\n",
       " 'sería',\n",
       " 'si',\n",
       " 'siempre',\n",
       " 'sin',\n",
       " 'siquiera',\n",
       " 'sobre',\n",
       " 'solamente',\n",
       " 'solicitada',\n",
       " 'solicite',\n",
       " 'solo',\n",
       " 'solucionar',\n",
       " 'son',\n",
       " 'soporte',\n",
       " 'soy',\n",
       " 'sr',\n",
       " 'sres',\n",
       " 'su',\n",
       " 'subo',\n",
       " 'sucursal',\n",
       " 'sucursales',\n",
       " 'super',\n",
       " 'sus',\n",
       " 'sáenz',\n",
       " 'sólo',\n",
       " 'también',\n",
       " 'tarde',\n",
       " 'tardes',\n",
       " 'tarjeta',\n",
       " 'tasaro',\n",
       " 'te',\n",
       " 'teléfono',\n",
       " 'temita',\n",
       " 'tendrán',\n",
       " 'tendrás',\n",
       " 'tenga',\n",
       " 'tengo',\n",
       " 'tenés',\n",
       " 'tenía',\n",
       " 'tercero',\n",
       " 'terceros',\n",
       " 'tiene',\n",
       " 'tienen',\n",
       " 'tirolesa',\n",
       " 'toco',\n",
       " 'todas',\n",
       " 'todo',\n",
       " 'todos',\n",
       " 'tomadas',\n",
       " 'tomar',\n",
       " 'total',\n",
       " 'trabajan',\n",
       " 'trabajo',\n",
       " 'tranqui',\n",
       " 'tratando',\n",
       " 'trámite',\n",
       " 'tu',\n",
       " 'tuve',\n",
       " 'uh',\n",
       " 'un',\n",
       " 'una',\n",
       " 'unico',\n",
       " 'universal',\n",
       " 'urgente',\n",
       " 'usaba',\n",
       " 'ustedes',\n",
       " 'usuaruario',\n",
       " 'vacaciones',\n",
       " 'vajo',\n",
       " 'valor',\n",
       " 'vehículo',\n",
       " 'vence',\n",
       " 'venció',\n",
       " 'veo',\n",
       " 'ver',\n",
       " 'verdad',\n",
       " 'verde',\n",
       " 'vergonzoso',\n",
       " 'vergüenza',\n",
       " 'verifico',\n",
       " 'viajar',\n",
       " 'viaje',\n",
       " 'vida',\n",
       " 'vidrio',\n",
       " 'viene',\n",
       " 'vieron',\n",
       " 'visitar',\n",
       " 'voleta',\n",
       " 'volver',\n",
       " 'voy',\n",
       " 'vw',\n",
       " 'vélez',\n",
       " 'vía',\n",
       " 'web',\n",
       " 'whatsapp',\n",
       " 'xfa',\n",
       " 'xq',\n",
       " 'ya',\n",
       " 'yo']"
      ]
     },
     "execution_count": 11,
     "metadata": {},
     "output_type": "execute_result"
    }
   ],
   "source": [
    "cv.get_feature_names()"
   ]
  },
  {
   "cell_type": "code",
   "execution_count": 12,
   "metadata": {},
   "outputs": [
    {
     "data": {
      "text/plain": [
       "[array(['averiguar', 'quería', 'seguro', 'un'], dtype='<U15')]"
      ]
     },
     "execution_count": 12,
     "metadata": {},
     "output_type": "execute_result"
    }
   ],
   "source": [
    "cv.inverse_transform(arrai[0])"
   ]
  },
  {
   "cell_type": "code",
   "execution_count": 13,
   "metadata": {},
   "outputs": [
    {
     "data": {
      "text/plain": [
       "'Quería averiguar x un seguro'"
      ]
     },
     "execution_count": 13,
     "metadata": {},
     "output_type": "execute_result"
    }
   ],
   "source": [
    "x_train.iloc[0]"
   ]
  },
  {
   "cell_type": "markdown",
   "metadata": {},
   "source": [
    "### Tfidf Vectorizer"
   ]
  },
  {
   "cell_type": "code",
   "execution_count": 8,
   "metadata": {
    "scrolled": true
   },
   "outputs": [],
   "source": [
    " tfidf_v= TfidfVectorizer(min_df=1,stop_words=stop_words)"
   ]
  },
  {
   "cell_type": "code",
   "execution_count": 9,
   "metadata": {},
   "outputs": [],
   "source": [
    "# for making our language based training data use \"fit_transform()\"\n",
    "x_train_tfidf= tfidf_v.fit_transform(x_train)"
   ]
  },
  {
   "cell_type": "code",
   "execution_count": 10,
   "metadata": {},
   "outputs": [
    {
     "data": {
      "text/plain": [
       "array([[0., 0., 0., ..., 0., 0., 0.],\n",
       "       [0., 0., 0., ..., 0., 0., 0.],\n",
       "       [0., 0., 0., ..., 0., 0., 0.],\n",
       "       ...,\n",
       "       [0., 0., 0., ..., 0., 0., 0.],\n",
       "       [0., 0., 0., ..., 0., 0., 0.],\n",
       "       [0., 0., 0., ..., 0., 0., 0.]])"
      ]
     },
     "execution_count": 10,
     "metadata": {},
     "output_type": "execute_result"
    }
   ],
   "source": [
    "arrai1 = x_train_tfidf.toarray()\n",
    "arrai1"
   ]
  },
  {
   "cell_type": "code",
   "execution_count": 11,
   "metadata": {
    "scrolled": true
   },
   "outputs": [
    {
     "data": {
      "text/plain": [
       "['100',\n",
       " '11',\n",
       " '19',\n",
       " '1983',\n",
       " '2008',\n",
       " '2009',\n",
       " '2011',\n",
       " '351',\n",
       " '3515069733',\n",
       " '430000',\n",
       " '506973',\n",
       " '690',\n",
       " '790',\n",
       " '794',\n",
       " '80',\n",
       " '936',\n",
       " '97',\n",
       " 'ab235',\n",
       " 'abonaba',\n",
       " 'abonar',\n",
       " 'aca',\n",
       " 'accidente',\n",
       " 'acercar',\n",
       " 'actuó',\n",
       " 'acá',\n",
       " 'además',\n",
       " 'adherirse',\n",
       " 'agradezco',\n",
       " 'aguardo',\n",
       " 'ahi',\n",
       " 'ahora',\n",
       " 'alberto',\n",
       " 'alguna',\n",
       " 'alta',\n",
       " 'andar',\n",
       " 'anterior',\n",
       " 'anulada',\n",
       " 'aparece',\n",
       " 'apenas',\n",
       " 'aproximadamente',\n",
       " 'aqui',\n",
       " 'arriba',\n",
       " 'as',\n",
       " 'asegurado',\n",
       " 'asegurar',\n",
       " 'asesoro',\n",
       " 'asi',\n",
       " 'assistance',\n",
       " 'así',\n",
       " 'atención',\n",
       " 'atendian',\n",
       " 'atendieron',\n",
       " 'atras',\n",
       " 'atrás',\n",
       " 'atte',\n",
       " 'aumentan',\n",
       " 'auto',\n",
       " 'automovil',\n",
       " 'autos',\n",
       " 'averiguar',\n",
       " 'avise',\n",
       " 'aviso',\n",
       " 'ayer',\n",
       " 'bersion',\n",
       " 'bertuccelli_edo',\n",
       " 'bicicletas',\n",
       " 'bien',\n",
       " 'boleta',\n",
       " 'bonito',\n",
       " 'boton',\n",
       " 'breve',\n",
       " 'brindar',\n",
       " 'bs',\n",
       " 'bsas',\n",
       " 'buen',\n",
       " 'buena',\n",
       " 'buenas',\n",
       " 'buenisimo',\n",
       " 'bueno',\n",
       " 'buenos',\n",
       " 'bustos',\n",
       " 'cabrera',\n",
       " 'camioneta',\n",
       " 'cancelar',\n",
       " 'carol',\n",
       " 'casa',\n",
       " 'categoria',\n",
       " 'cba',\n",
       " 'cbu',\n",
       " 'celular',\n",
       " 'centro',\n",
       " 'cerca',\n",
       " 'chiquita',\n",
       " 'choco',\n",
       " 'chocó',\n",
       " 'cliente',\n",
       " 'clio',\n",
       " 'cobertura',\n",
       " 'coberturas',\n",
       " 'cobrar',\n",
       " 'colaboración',\n",
       " 'colonia',\n",
       " 'com',\n",
       " 'comparando',\n",
       " 'compañía',\n",
       " 'completo',\n",
       " 'comprobante',\n",
       " 'comunicar',\n",
       " 'conocer',\n",
       " 'consiste',\n",
       " 'consulta',\n",
       " 'consultar',\n",
       " 'consultarle',\n",
       " 'contactarnos',\n",
       " 'contestar',\n",
       " 'contestaron',\n",
       " 'conteste',\n",
       " 'contratado',\n",
       " 'contratar',\n",
       " 'contratarlo',\n",
       " 'conté',\n",
       " 'conveniente',\n",
       " 'cordoba',\n",
       " 'correo',\n",
       " 'cosa',\n",
       " 'cosas',\n",
       " 'costara',\n",
       " 'cotisaron',\n",
       " 'cotizacion',\n",
       " 'cotización',\n",
       " 'cotizar',\n",
       " 'cotizaron',\n",
       " 'cotizas',\n",
       " 'credito',\n",
       " 'creo',\n",
       " 'cuadras',\n",
       " 'cualquier',\n",
       " 'cuanto',\n",
       " 'cuarto',\n",
       " 'cuatrimestral',\n",
       " 'cubra',\n",
       " 'cubre',\n",
       " 'cuenta',\n",
       " 'cuentan',\n",
       " 'cuestiones',\n",
       " 'cuestión',\n",
       " 'cumplo',\n",
       " 'cuota',\n",
       " 'cupon',\n",
       " 'cupón',\n",
       " 'cuándo',\n",
       " 'cómo',\n",
       " 'dale',\n",
       " 'dan',\n",
       " 'dar',\n",
       " 'datos',\n",
       " 'day',\n",
       " 'deben',\n",
       " 'debo',\n",
       " 'decia',\n",
       " 'decime',\n",
       " 'decir',\n",
       " 'decís',\n",
       " 'deja',\n",
       " 'deje',\n",
       " 'demora',\n",
       " 'den',\n",
       " 'denuncia',\n",
       " 'deseo',\n",
       " 'después',\n",
       " 'detallaba',\n",
       " 'dia',\n",
       " 'dias',\n",
       " 'dice',\n",
       " 'dicho',\n",
       " 'diego',\n",
       " 'dieron',\n",
       " 'dijeron',\n",
       " 'dirección',\n",
       " 'documentacion',\n",
       " 'documento',\n",
       " 'documentos',\n",
       " 'domingo',\n",
       " 'dueño',\n",
       " 'débito',\n",
       " 'día',\n",
       " 'días',\n",
       " 'díganme',\n",
       " 'efectivamente',\n",
       " 'efectivo',\n",
       " 'eficientes',\n",
       " 'electrónico',\n",
       " 'encanta',\n",
       " 'encima',\n",
       " 'entero',\n",
       " 'entiendo',\n",
       " 'envarón',\n",
       " 'envia',\n",
       " 'envianos',\n",
       " 'enviar',\n",
       " 'enviarme',\n",
       " 'envio',\n",
       " 'envían',\n",
       " 'envíe',\n",
       " 'envíen',\n",
       " 'envío',\n",
       " 'equivocaron',\n",
       " 'escribo',\n",
       " 'escudo',\n",
       " 'esperando',\n",
       " 'espero',\n",
       " 'estanciera',\n",
       " 'etc',\n",
       " 'excelente',\n",
       " 'extraordinarios',\n",
       " 'f100',\n",
       " 'facil',\n",
       " 'falcon',\n",
       " 'falta',\n",
       " 'favor',\n",
       " 'fe',\n",
       " 'fierro',\n",
       " 'flete',\n",
       " 'fmk',\n",
       " 'ford',\n",
       " 'forma',\n",
       " 'foto',\n",
       " 'fotos',\n",
       " 'fritas',\n",
       " 'genial',\n",
       " 'gnc',\n",
       " 'gol',\n",
       " 'graciaa',\n",
       " 'gracias',\n",
       " 'grupo',\n",
       " 'grúa',\n",
       " 'guardado',\n",
       " 'guiar',\n",
       " 'gusto',\n",
       " 'haber',\n",
       " 'habian',\n",
       " 'hablaba',\n",
       " 'hace',\n",
       " 'hacer',\n",
       " 'hacerle',\n",
       " 'hago',\n",
       " 'haran',\n",
       " 'hecho',\n",
       " 'hice',\n",
       " 'hiper',\n",
       " 'hola',\n",
       " 'hora',\n",
       " 'horas',\n",
       " 'hotmail',\n",
       " 'hoy',\n",
       " 'hs',\n",
       " 'imagen',\n",
       " 'imprimir',\n",
       " 'inda',\n",
       " 'indicaron',\n",
       " 'info',\n",
       " 'informe',\n",
       " 'interesa',\n",
       " 'ir',\n",
       " 'ixc478',\n",
       " 'jajajajajaja',\n",
       " 'jerónimo',\n",
       " 'julio',\n",
       " 'ka1',\n",
       " 'kilos',\n",
       " 'lancha',\n",
       " 'lanchas',\n",
       " 'levantado',\n",
       " 'libertad',\n",
       " 'liliana',\n",
       " 'line',\n",
       " 'link',\n",
       " 'listo',\n",
       " 'llamaron',\n",
       " 'llave',\n",
       " 'llego',\n",
       " 'localidad',\n",
       " 'lugar',\n",
       " 'luis',\n",
       " 'lujo',\n",
       " 'lunes',\n",
       " 'líder',\n",
       " 'mail',\n",
       " 'mandame',\n",
       " 'mandar',\n",
       " 'mandarme',\n",
       " 'mandaron',\n",
       " 'mande',\n",
       " 'marca',\n",
       " 'mariano',\n",
       " 'marido',\n",
       " 'mas',\n",
       " 'mascota',\n",
       " 'max',\n",
       " 'mañana',\n",
       " 'medios',\n",
       " 'mejor',\n",
       " 'menos',\n",
       " 'mensaje',\n",
       " 'mercado',\n",
       " 'mes',\n",
       " 'meses',\n",
       " 'mira',\n",
       " 'misma',\n",
       " 'mismo',\n",
       " 'mod',\n",
       " 'modelo',\n",
       " 'monto',\n",
       " 'muchas',\n",
       " 'natalia',\n",
       " 'necesitaría',\n",
       " 'necesito',\n",
       " 'necesitó',\n",
       " 'nesecito',\n",
       " 'niño',\n",
       " 'nomas',\n",
       " 'nombre',\n",
       " 'novedades',\n",
       " 'nueva',\n",
       " 'nuevamente',\n",
       " 'nuevo',\n",
       " 'numero',\n",
       " 'número',\n",
       " 'oficina',\n",
       " 'oficinas',\n",
       " 'oit199',\n",
       " 'ok',\n",
       " 'on',\n",
       " 'online',\n",
       " 'organización',\n",
       " 'pablo',\n",
       " 'pagar',\n",
       " 'pagarlo',\n",
       " 'pagina',\n",
       " 'pago',\n",
       " 'pagofacil',\n",
       " 'pagos',\n",
       " 'pague',\n",
       " 'papeles',\n",
       " 'parcial',\n",
       " 'parece',\n",
       " 'pareja',\n",
       " 'parese',\n",
       " 'parte',\n",
       " 'partir',\n",
       " 'pasa',\n",
       " 'pasar',\n",
       " 'pasaron',\n",
       " 'pasaré',\n",
       " 'pasas',\n",
       " 'pase',\n",
       " 'paso',\n",
       " 'patente',\n",
       " 'pego',\n",
       " 'pendiente',\n",
       " 'pense',\n",
       " 'perdón',\n",
       " 'perfecto',\n",
       " 'permanentemente',\n",
       " 'personal',\n",
       " 'personales',\n",
       " 'personalmente',\n",
       " 'peña',\n",
       " 'pide',\n",
       " 'poder',\n",
       " 'podes',\n",
       " 'podrias',\n",
       " 'podrá',\n",
       " 'podrían',\n",
       " 'podrías',\n",
       " 'podía',\n",
       " 'poliza',\n",
       " 'poner',\n",
       " 'ponían',\n",
       " 'porq',\n",
       " 'power',\n",
       " 'precio',\n",
       " 'precios',\n",
       " 'pregunta',\n",
       " 'premura',\n",
       " 'presentar',\n",
       " 'presentarla',\n",
       " 'primera',\n",
       " 'promo',\n",
       " 'promocion',\n",
       " 'prueba',\n",
       " 'pruebas',\n",
       " 'ptas',\n",
       " 'pude',\n",
       " 'pudieron',\n",
       " 'puede',\n",
       " 'pueden',\n",
       " 'puedo',\n",
       " 'puerta',\n",
       " 'pv',\n",
       " 'póliza',\n",
       " 'quedan',\n",
       " 'quedaria',\n",
       " 'quedaría',\n",
       " 'queria',\n",
       " 'querian',\n",
       " 'quería',\n",
       " 'quevedo',\n",
       " 'quiero',\n",
       " 'quisiera',\n",
       " 'radicado',\n",
       " 'rapipago',\n",
       " 'recibida',\n",
       " 'recibo',\n",
       " 'recien',\n",
       " 'recién',\n",
       " 'recuerden',\n",
       " 'regata',\n",
       " 'regiria',\n",
       " 'regla',\n",
       " 'remolque',\n",
       " 'renovación',\n",
       " 'renovar',\n",
       " 'requisitos',\n",
       " 'resolví',\n",
       " 'respondemos',\n",
       " 'responder',\n",
       " 'respondo',\n",
       " 'responsable',\n",
       " 'respuesta',\n",
       " 'riesgo',\n",
       " 'rio',\n",
       " 'rivadavia',\n",
       " 'robo',\n",
       " 'rompió',\n",
       " 'roque',\n",
       " 'ruta',\n",
       " 'sabatini',\n",
       " 'sabattini',\n",
       " 'saber',\n",
       " 'sabido',\n",
       " 'sale',\n",
       " 'salen',\n",
       " 'salir',\n",
       " 'salía',\n",
       " 'sancor',\n",
       " 'sarsfield',\n",
       " 'saver',\n",
       " 'sector',\n",
       " 'segunda',\n",
       " 'seguro',\n",
       " 'seis',\n",
       " 'semana',\n",
       " 'ser',\n",
       " 'seria',\n",
       " 'servicio',\n",
       " 'servir',\n",
       " 'si',\n",
       " 'siempre',\n",
       " 'siquiera',\n",
       " 'solamente',\n",
       " 'solicitada',\n",
       " 'solicite',\n",
       " 'solo',\n",
       " 'solucionar',\n",
       " 'soporte',\n",
       " 'sr',\n",
       " 'sres',\n",
       " 'subo',\n",
       " 'sucursal',\n",
       " 'sucursales',\n",
       " 'super',\n",
       " 'sáenz',\n",
       " 'sólo',\n",
       " 'tarde',\n",
       " 'tardes',\n",
       " 'tarjeta',\n",
       " 'tasaro',\n",
       " 'teléfono',\n",
       " 'temita',\n",
       " 'tenés',\n",
       " 'tercero',\n",
       " 'terceros',\n",
       " 'tirolesa',\n",
       " 'toco',\n",
       " 'todas',\n",
       " 'tomadas',\n",
       " 'tomar',\n",
       " 'total',\n",
       " 'trabajan',\n",
       " 'trabajo',\n",
       " 'tranqui',\n",
       " 'tratando',\n",
       " 'trámite',\n",
       " 'uh',\n",
       " 'unico',\n",
       " 'universal',\n",
       " 'urgente',\n",
       " 'usaba',\n",
       " 'ustedes',\n",
       " 'usuaruario',\n",
       " 'vacaciones',\n",
       " 'vajo',\n",
       " 'valor',\n",
       " 'vehículo',\n",
       " 'vence',\n",
       " 'venció',\n",
       " 'veo',\n",
       " 'ver',\n",
       " 'verdad',\n",
       " 'verde',\n",
       " 'vergonzoso',\n",
       " 'vergüenza',\n",
       " 'verifico',\n",
       " 'viajar',\n",
       " 'viaje',\n",
       " 'vida',\n",
       " 'vidrio',\n",
       " 'viene',\n",
       " 'vieron',\n",
       " 'visitar',\n",
       " 'voleta',\n",
       " 'volver',\n",
       " 'voy',\n",
       " 'vw',\n",
       " 'vélez',\n",
       " 'vía',\n",
       " 'web',\n",
       " 'whatsapp',\n",
       " 'xfa',\n",
       " 'xq']"
      ]
     },
     "execution_count": 11,
     "metadata": {},
     "output_type": "execute_result"
    }
   ],
   "source": [
    "#feature extraction of the data\n",
    "tfidf_v.get_feature_names()"
   ]
  },
  {
   "cell_type": "code",
   "execution_count": 12,
   "metadata": {},
   "outputs": [
    {
     "data": {
      "text/plain": [
       "[array(['averiguar', 'quería', 'seguro'], dtype='<U15')]"
      ]
     },
     "execution_count": 12,
     "metadata": {},
     "output_type": "execute_result"
    }
   ],
   "source": [
    "tfidf_v.inverse_transform(arrai1[0])"
   ]
  },
  {
   "cell_type": "code",
   "execution_count": 13,
   "metadata": {
    "scrolled": true
   },
   "outputs": [
    {
     "data": {
      "text/plain": [
       "'Quería averiguar x un seguro'"
      ]
     },
     "execution_count": 13,
     "metadata": {},
     "output_type": "execute_result"
    }
   ],
   "source": [
    "x_train.iloc[0]"
   ]
  },
  {
   "cell_type": "markdown",
   "metadata": {},
   "source": [
    "### Multinomial Naive Bayes Classifier with Count Vectorizer"
   ]
  },
  {
   "cell_type": "code",
   "execution_count": 14,
   "metadata": {},
   "outputs": [],
   "source": [
    "mnb=MultinomialNB()"
   ]
  },
  {
   "cell_type": "code",
   "execution_count": 15,
   "metadata": {},
   "outputs": [
    {
     "data": {
      "text/plain": [
       "MultinomialNB(alpha=1.0, class_prior=None, fit_prior=True)"
      ]
     },
     "execution_count": 15,
     "metadata": {},
     "output_type": "execute_result"
    }
   ],
   "source": [
    "# for applying the Naive Bayes algorithm use \"fit()\"\n",
    "mnb.fit(x_traincv, y_train)"
   ]
  },
  {
   "cell_type": "code",
   "execution_count": 16,
   "metadata": {},
   "outputs": [],
   "source": [
    "# test data use \"transform()\"\n",
    "x_testcv = cv.transform(x_test)"
   ]
  },
  {
   "cell_type": "code",
   "execution_count": 17,
   "metadata": {
    "scrolled": true
   },
   "outputs": [
    {
     "data": {
      "text/plain": [
       "array([0, 0, 0, 0, 0, 0, 1, 0, 0, 0, 0, 0, 0, 0, 0, 0, 0, 0, 0, 0, 0, 0,\n",
       "       0, 0, 0, 0, 0, 0, 0, 0, 0, 0, 0, 1, 0, 0, 0, 0, 0, 0, 0, 0, 0, 0,\n",
       "       0, 0, 0, 0, 0, 0, 0, 0, 1, 0, 1])"
      ]
     },
     "execution_count": 17,
     "metadata": {},
     "output_type": "execute_result"
    }
   ],
   "source": [
    "#predictions\n",
    "pred = mnb.predict(x_testcv)\n",
    "pred"
   ]
  },
  {
   "cell_type": "code",
   "execution_count": 18,
   "metadata": {},
   "outputs": [
    {
     "data": {
      "text/plain": [
       "array([0, 0, 0, 0, 0, 0, 0, 0, 1, 0, 0, 0, 0, 0, 1, 0, 0, 0, 0, 0, 0, 0,\n",
       "       0, 0, 0, 0, 0, 0, 1, 0, 0, 0, 0, 1, 0, 0, 0, 1, 0, 0, 0, 0, 1, 0,\n",
       "       0, 0, 0, 0, 0, 0, 0, 0, 1, 0, 1], dtype=object)"
      ]
     },
     "execution_count": 18,
     "metadata": {},
     "output_type": "execute_result"
    }
   ],
   "source": [
    "actual=np.array(y_test)\n",
    "actual"
   ]
  },
  {
   "cell_type": "code",
   "execution_count": 19,
   "metadata": {},
   "outputs": [
    {
     "name": "stdout",
     "output_type": "stream",
     "text": [
      "We have 49 correct predictions out of 55 .\n",
      "Total 89.0909090909091 accuracy using Count Vectorizer.\n"
     ]
    }
   ],
   "source": [
    "count=0\n",
    "for i in range (len(pred)):\n",
    "    if pred[i]==actual[i]:\n",
    "        count=count+1\n",
    "print(\"We have\",count,\"correct predictions out of\",len(pred),\".\")\n",
    "print(\"Total\",(count/len(pred))*100,\"accuracy using Count Vectorizer.\")"
   ]
  },
  {
   "cell_type": "markdown",
   "metadata": {},
   "source": [
    "### Multinomial Naive Bayes Classifier with TFIDF Vectorizer"
   ]
  },
  {
   "cell_type": "code",
   "execution_count": 17,
   "metadata": {},
   "outputs": [
    {
     "data": {
      "text/plain": [
       "MultinomialNB(alpha=1.0, class_prior=None, fit_prior=True)"
      ]
     },
     "execution_count": 17,
     "metadata": {},
     "output_type": "execute_result"
    }
   ],
   "source": [
    "mnb.fit(x_train_tfidf, y_train)"
   ]
  },
  {
   "cell_type": "code",
   "execution_count": 18,
   "metadata": {},
   "outputs": [],
   "source": [
    "x_test_tfidf = tfidf_v.transform(x_test)"
   ]
  },
  {
   "cell_type": "code",
   "execution_count": 19,
   "metadata": {},
   "outputs": [
    {
     "data": {
      "text/plain": [
       "array([0, 0, 0, 0, 0, 0, 0, 0, 0, 0, 0, 0, 0, 0, 0, 0, 0, 0, 0, 0, 0, 0,\n",
       "       0, 0, 0, 0, 0, 0, 0, 0, 0, 0, 0, 0, 0, 0, 0, 0, 0, 0, 0, 0, 0, 0,\n",
       "       0, 0, 0, 0, 0, 0, 0, 0, 0, 0, 0])"
      ]
     },
     "execution_count": 19,
     "metadata": {},
     "output_type": "execute_result"
    }
   ],
   "source": [
    "pred1 = mnb.predict(x_test_tfidf)\n",
    "pred1"
   ]
  },
  {
   "cell_type": "code",
   "execution_count": 20,
   "metadata": {},
   "outputs": [
    {
     "data": {
      "text/plain": [
       "array([0, 0, 0, 0, 0, 0, 0, 0, 1, 0, 0, 0, 0, 0, 1, 0, 0, 0, 0, 0, 0, 0,\n",
       "       0, 0, 0, 0, 0, 0, 1, 0, 0, 0, 0, 1, 0, 0, 0, 1, 0, 0, 0, 0, 1, 0,\n",
       "       0, 0, 0, 0, 0, 0, 0, 0, 1, 0, 1], dtype=object)"
      ]
     },
     "execution_count": 20,
     "metadata": {},
     "output_type": "execute_result"
    }
   ],
   "source": [
    "actual1=np.array(y_test)\n",
    "actual1"
   ]
  },
  {
   "cell_type": "code",
   "execution_count": 21,
   "metadata": {},
   "outputs": [
    {
     "name": "stdout",
     "output_type": "stream",
     "text": [
      "we have 47 correct predictions out of 55\n",
      "Total 85.45454545454545 accuracy using Tfidf Vectorizer\n"
     ]
    }
   ],
   "source": [
    "count1=0\n",
    "for i in range (len(pred1)):\n",
    "    if pred1[i]==actual1[i]:\n",
    "        count1=count1+1\n",
    "print(\"We have\",count1,\"correct predictions out of\",len(pred1),\".\")\n",
    "print(\"Total\",(count1/len(pred1))*100,\"accuracy using Tfidf Vectorizer\")"
   ]
  },
  {
   "cell_type": "markdown",
   "metadata": {},
   "source": [
    "### Bernoulli-Naive Bayes Classifier "
   ]
  },
  {
   "cell_type": "code",
   "execution_count": 13,
   "metadata": {},
   "outputs": [],
   "source": [
    "from sklearn.naive_bayes import BernoulliNB"
   ]
  },
  {
   "cell_type": "code",
   "execution_count": 14,
   "metadata": {},
   "outputs": [],
   "source": [
    "bnb=BernoulliNB()"
   ]
  },
  {
   "cell_type": "code",
   "execution_count": 15,
   "metadata": {},
   "outputs": [
    {
     "data": {
      "text/plain": [
       "BernoulliNB(alpha=1.0, binarize=0.0, class_prior=None, fit_prior=True)"
      ]
     },
     "execution_count": 15,
     "metadata": {},
     "output_type": "execute_result"
    }
   ],
   "source": [
    "# for applying the Naive Bayes algorithm use \"fit()\"\n",
    "bnb.fit(x_traincv, y_train)"
   ]
  },
  {
   "cell_type": "code",
   "execution_count": 16,
   "metadata": {},
   "outputs": [],
   "source": [
    "# test data use \"transform()\"\n",
    "x_testcv = cv.transform(x_test)"
   ]
  },
  {
   "cell_type": "code",
   "execution_count": 19,
   "metadata": {},
   "outputs": [
    {
     "data": {
      "text/plain": [
       "array([0, 0, 0, 0, 0, 0, 0, 0, 0, 0, 0, 0, 0, 0, 0, 0, 0, 0, 0, 0, 0, 0,\n",
       "       0, 0, 0, 0, 0, 0, 0, 0, 0, 0, 0, 0, 0, 0, 0, 0, 0, 0, 0, 0, 0, 0,\n",
       "       0, 0, 0, 0, 0, 0, 0, 0, 0, 0, 0])"
      ]
     },
     "execution_count": 19,
     "metadata": {},
     "output_type": "execute_result"
    }
   ],
   "source": [
    "#predictions\n",
    "pred = bnb.predict(x_testcv)\n",
    "pred"
   ]
  },
  {
   "cell_type": "code",
   "execution_count": 20,
   "metadata": {},
   "outputs": [
    {
     "data": {
      "text/plain": [
       "array([0, 0, 0, 0, 0, 0, 0, 0, 1, 0, 0, 0, 0, 0, 1, 0, 0, 0, 0, 0, 0, 0,\n",
       "       0, 0, 0, 0, 0, 0, 1, 0, 0, 0, 0, 1, 0, 0, 0, 1, 0, 0, 0, 0, 1, 0,\n",
       "       0, 0, 0, 0, 0, 0, 0, 0, 1, 0, 1], dtype=object)"
      ]
     },
     "execution_count": 20,
     "metadata": {},
     "output_type": "execute_result"
    }
   ],
   "source": [
    "actual=np.array(y_test)\n",
    "actual"
   ]
  },
  {
   "cell_type": "code",
   "execution_count": 21,
   "metadata": {},
   "outputs": [
    {
     "name": "stdout",
     "output_type": "stream",
     "text": [
      "We have 47 correct predictions out of 55 .\n",
      "Total 85.45454545454545 accuracy using Count Vectorizer.\n"
     ]
    }
   ],
   "source": [
    "count=0\n",
    "for i in range (len(pred)):\n",
    "    if pred[i]==actual[i]:\n",
    "        count=count+1\n",
    "print(\"We have\",count,\"correct predictions out of\",len(pred),\".\")\n",
    "print(\"Total\",(count/len(pred))*100,\"accuracy.\")"
   ]
  },
  {
   "cell_type": "markdown",
   "metadata": {},
   "source": [
    "### Gaussian-Naive Bayes Classifier"
   ]
  },
  {
   "cell_type": "code",
   "execution_count": 14,
   "metadata": {},
   "outputs": [],
   "source": [
    "from sklearn.naive_bayes import GaussianNB"
   ]
  },
  {
   "cell_type": "code",
   "execution_count": 15,
   "metadata": {},
   "outputs": [],
   "source": [
    "gnb=GaussianNB()"
   ]
  },
  {
   "cell_type": "code",
   "execution_count": 17,
   "metadata": {},
   "outputs": [
    {
     "data": {
      "text/plain": [
       "GaussianNB(priors=None, var_smoothing=1e-09)"
      ]
     },
     "execution_count": 17,
     "metadata": {},
     "output_type": "execute_result"
    }
   ],
   "source": [
    "# for applying the Naive Bayes algorithm use \"fit()\"\n",
    "dense_x_traincv = x_traincv.toarray()\n",
    "gnb.fit(dense_x_traincv, y_train)"
   ]
  },
  {
   "cell_type": "code",
   "execution_count": 18,
   "metadata": {},
   "outputs": [],
   "source": [
    "# test data use \"transform()\"\n",
    "x_testcv = cv.transform(x_test)"
   ]
  },
  {
   "cell_type": "code",
   "execution_count": 20,
   "metadata": {},
   "outputs": [
    {
     "data": {
      "text/plain": [
       "array([0, 1, 1, 0, 0, 0, 1, 0, 1, 0, 0, 0, 0, 0, 0, 1, 1, 0, 0, 0, 0, 0,\n",
       "       0, 1, 0, 1, 0, 0, 1, 1, 0, 1, 0, 1, 0, 0, 1, 0, 0, 0, 0, 0, 1, 0,\n",
       "       0, 0, 0, 0, 0, 0, 0, 0, 0, 0, 1])"
      ]
     },
     "execution_count": 20,
     "metadata": {},
     "output_type": "execute_result"
    }
   ],
   "source": [
    "#predictions\n",
    "dense_x_testcv = x_testcv.toarray()\n",
    "pred = gnb.predict(dense_x_testcv)\n",
    "pred"
   ]
  },
  {
   "cell_type": "code",
   "execution_count": 21,
   "metadata": {},
   "outputs": [
    {
     "data": {
      "text/plain": [
       "array([0, 0, 0, 0, 0, 0, 0, 0, 1, 0, 0, 0, 0, 0, 1, 0, 0, 0, 0, 0, 0, 0,\n",
       "       0, 0, 0, 0, 0, 0, 1, 0, 0, 0, 0, 1, 0, 0, 0, 1, 0, 0, 0, 0, 1, 0,\n",
       "       0, 0, 0, 0, 0, 0, 0, 0, 1, 0, 1], dtype=object)"
      ]
     },
     "execution_count": 21,
     "metadata": {},
     "output_type": "execute_result"
    }
   ],
   "source": [
    "actual=np.array(y_test)\n",
    "actual"
   ]
  },
  {
   "cell_type": "code",
   "execution_count": 22,
   "metadata": {},
   "outputs": [
    {
     "name": "stdout",
     "output_type": "stream",
     "text": [
      "We have 42 correct predictions out of 55 .\n",
      "Total 76.36363636363637 accuracy using Count Vectorizer.\n"
     ]
    }
   ],
   "source": [
    "count=0\n",
    "for i in range (len(pred)):\n",
    "    if pred[i]==actual[i]:\n",
    "        count=count+1\n",
    "print(\"We have\",count,\"correct predictions out of\",len(pred),\".\")\n",
    "print(\"Total\",(count/len(pred))*100,\"accuracy.\")"
   ]
  },
  {
   "cell_type": "markdown",
   "metadata": {},
   "source": [
    "### Logistic Regression Classifier"
   ]
  },
  {
   "cell_type": "code",
   "execution_count": 14,
   "metadata": {},
   "outputs": [],
   "source": [
    "from sklearn.linear_model import LogisticRegression"
   ]
  },
  {
   "cell_type": "code",
   "execution_count": 15,
   "metadata": {},
   "outputs": [],
   "source": [
    "lr_classifier=LogisticRegression()"
   ]
  },
  {
   "cell_type": "code",
   "execution_count": 16,
   "metadata": {},
   "outputs": [
    {
     "name": "stderr",
     "output_type": "stream",
     "text": [
      "/anaconda3/envs/diplodatos-ayv/lib/python3.5/site-packages/sklearn/linear_model/logistic.py:432: FutureWarning: Default solver will be changed to 'lbfgs' in 0.22. Specify a solver to silence this warning.\n",
      "  FutureWarning)\n"
     ]
    },
    {
     "data": {
      "text/plain": [
       "LogisticRegression(C=1.0, class_weight=None, dual=False, fit_intercept=True,\n",
       "          intercept_scaling=1, max_iter=100, multi_class='warn',\n",
       "          n_jobs=None, penalty='l2', random_state=None, solver='warn',\n",
       "          tol=0.0001, verbose=0, warm_start=False)"
      ]
     },
     "execution_count": 16,
     "metadata": {},
     "output_type": "execute_result"
    }
   ],
   "source": [
    "# for applying the Naive Bayes algorithm use \"fit()\"\n",
    "dense_x_traincv = x_traincv.toarray()\n",
    "lr_classifier.fit(dense_x_traincv, y_train)"
   ]
  },
  {
   "cell_type": "code",
   "execution_count": 17,
   "metadata": {},
   "outputs": [],
   "source": [
    "# test data use \"transform()\"\n",
    "x_testcv = cv.transform(x_test)"
   ]
  },
  {
   "cell_type": "code",
   "execution_count": 18,
   "metadata": {},
   "outputs": [
    {
     "data": {
      "text/plain": [
       "array([0, 0, 0, 0, 0, 0, 1, 0, 0, 0, 0, 0, 0, 0, 0, 0, 0, 0, 0, 0, 0, 0,\n",
       "       0, 1, 0, 0, 0, 0, 0, 0, 0, 0, 0, 0, 0, 0, 0, 0, 0, 0, 0, 0, 0, 0,\n",
       "       0, 0, 0, 0, 0, 0, 0, 0, 0, 0, 0])"
      ]
     },
     "execution_count": 18,
     "metadata": {},
     "output_type": "execute_result"
    }
   ],
   "source": [
    "#predictions\n",
    "dense_x_testcv = x_testcv.toarray()\n",
    "pred = lr_classifier.predict(dense_x_testcv)\n",
    "pred"
   ]
  },
  {
   "cell_type": "code",
   "execution_count": 19,
   "metadata": {},
   "outputs": [
    {
     "data": {
      "text/plain": [
       "array([0, 0, 0, 0, 0, 0, 0, 0, 1, 0, 0, 0, 0, 0, 1, 0, 0, 0, 0, 0, 0, 0,\n",
       "       0, 0, 0, 0, 0, 0, 1, 0, 0, 0, 0, 1, 0, 0, 0, 1, 0, 0, 0, 0, 1, 0,\n",
       "       0, 0, 0, 0, 0, 0, 0, 0, 1, 0, 1], dtype=object)"
      ]
     },
     "execution_count": 19,
     "metadata": {},
     "output_type": "execute_result"
    }
   ],
   "source": [
    "actual=np.array(y_test)\n",
    "actual"
   ]
  },
  {
   "cell_type": "code",
   "execution_count": 20,
   "metadata": {},
   "outputs": [
    {
     "name": "stdout",
     "output_type": "stream",
     "text": [
      "We have 45 correct predictions out of 55 .\n",
      "Total 81.81818181818183 accuracy using Count Vectorizer.\n"
     ]
    }
   ],
   "source": [
    "count=0\n",
    "for i in range (len(pred)):\n",
    "    if pred[i]==actual[i]:\n",
    "        count=count+1\n",
    "print(\"We have\",count,\"correct predictions out of\",len(pred),\".\")\n",
    "print(\"Total\",(count/len(pred))*100,\"accuracy.\")"
   ]
  },
  {
   "cell_type": "markdown",
   "metadata": {},
   "source": [
    "### Stochastic Gradient Descent Classifier"
   ]
  },
  {
   "cell_type": "code",
   "execution_count": 14,
   "metadata": {},
   "outputs": [],
   "source": [
    "from sklearn.linear_model import SGDClassifier"
   ]
  },
  {
   "cell_type": "code",
   "execution_count": 15,
   "metadata": {},
   "outputs": [],
   "source": [
    "sgd_classifier=SGDClassifier()"
   ]
  },
  {
   "cell_type": "code",
   "execution_count": 16,
   "metadata": {},
   "outputs": [
    {
     "name": "stderr",
     "output_type": "stream",
     "text": [
      "/anaconda3/envs/diplodatos-ayv/lib/python3.5/site-packages/sklearn/linear_model/stochastic_gradient.py:144: FutureWarning: max_iter and tol parameters have been added in SGDClassifier in 0.19. If both are left unset, they default to max_iter=5 and tol=None. If tol is not None, max_iter defaults to max_iter=1000. From 0.21, default max_iter will be 1000, and default tol will be 1e-3.\n",
      "  FutureWarning)\n"
     ]
    },
    {
     "data": {
      "text/plain": [
       "SGDClassifier(alpha=0.0001, average=False, class_weight=None,\n",
       "       early_stopping=False, epsilon=0.1, eta0=0.0, fit_intercept=True,\n",
       "       l1_ratio=0.15, learning_rate='optimal', loss='hinge', max_iter=None,\n",
       "       n_iter=None, n_iter_no_change=5, n_jobs=None, penalty='l2',\n",
       "       power_t=0.5, random_state=None, shuffle=True, tol=None,\n",
       "       validation_fraction=0.1, verbose=0, warm_start=False)"
      ]
     },
     "execution_count": 16,
     "metadata": {},
     "output_type": "execute_result"
    }
   ],
   "source": [
    "# for applying the Naive Bayes algorithm use \"fit()\"\n",
    "#dense_x_traincv = x_traincv.toarray()\n",
    "sgd_classifier.fit(x_traincv, y_train)"
   ]
  },
  {
   "cell_type": "code",
   "execution_count": 17,
   "metadata": {},
   "outputs": [],
   "source": [
    "# test data use \"transform()\"\n",
    "x_testcv = cv.transform(x_test)"
   ]
  },
  {
   "cell_type": "code",
   "execution_count": 18,
   "metadata": {},
   "outputs": [
    {
     "data": {
      "text/plain": [
       "array([0, 0, 0, 0, 0, 0, 1, 0, 0, 0, 0, 0, 0, 0, 0, 0, 0, 0, 0, 0, 0, 0,\n",
       "       0, 1, 0, 1, 0, 0, 1, 0, 0, 0, 0, 1, 0, 0, 0, 0, 0, 0, 0, 1, 0, 0,\n",
       "       0, 0, 0, 0, 0, 0, 0, 0, 1, 0, 1])"
      ]
     },
     "execution_count": 18,
     "metadata": {},
     "output_type": "execute_result"
    }
   ],
   "source": [
    "#predictions\n",
    "#dense_x_testcv = x_testcv.toarray()\n",
    "pred = sgd_classifier.predict(x_testcv)\n",
    "pred"
   ]
  },
  {
   "cell_type": "code",
   "execution_count": 19,
   "metadata": {},
   "outputs": [
    {
     "data": {
      "text/plain": [
       "array([0, 0, 0, 0, 0, 0, 0, 0, 1, 0, 0, 0, 0, 0, 1, 0, 0, 0, 0, 0, 0, 0,\n",
       "       0, 0, 0, 0, 0, 0, 1, 0, 0, 0, 0, 1, 0, 0, 0, 1, 0, 0, 0, 0, 1, 0,\n",
       "       0, 0, 0, 0, 0, 0, 0, 0, 1, 0, 1], dtype=object)"
      ]
     },
     "execution_count": 19,
     "metadata": {},
     "output_type": "execute_result"
    }
   ],
   "source": [
    "actual=np.array(y_test)\n",
    "actual"
   ]
  },
  {
   "cell_type": "code",
   "execution_count": 20,
   "metadata": {},
   "outputs": [
    {
     "name": "stdout",
     "output_type": "stream",
     "text": [
      "We have 47 correct predictions out of 55 .\n",
      "Total 85.45454545454545 accuracy using Count Vectorizer.\n"
     ]
    }
   ],
   "source": [
    "count=0\n",
    "for i in range (len(pred)):\n",
    "    if pred[i]==actual[i]:\n",
    "        count=count+1\n",
    "print(\"We have\",count,\"correct predictions out of\",len(pred),\".\")\n",
    "print(\"Total\",(count/len(pred))*100,\"accuracy.\")"
   ]
  },
  {
   "cell_type": "markdown",
   "metadata": {},
   "source": [
    "### Support Vector Classification (three types)"
   ]
  },
  {
   "cell_type": "code",
   "execution_count": 15,
   "metadata": {},
   "outputs": [],
   "source": [
    "from sklearn.svm import SVC"
   ]
  },
  {
   "cell_type": "code",
   "execution_count": 16,
   "metadata": {},
   "outputs": [],
   "source": [
    "svc_classifier=SVC()"
   ]
  },
  {
   "cell_type": "code",
   "execution_count": 17,
   "metadata": {},
   "outputs": [
    {
     "name": "stderr",
     "output_type": "stream",
     "text": [
      "/anaconda3/envs/diplodatos-ayv/lib/python3.5/site-packages/sklearn/svm/base.py:196: FutureWarning: The default value of gamma will change from 'auto' to 'scale' in version 0.22 to account better for unscaled features. Set gamma explicitly to 'auto' or 'scale' to avoid this warning.\n",
      "  \"avoid this warning.\", FutureWarning)\n"
     ]
    }
   ],
   "source": [
    "svc_classifier.fit(x_traincv, y_train)\n",
    "# test data use \"transform()\"\n",
    "x_testcv = cv.transform(x_test)\n",
    "#predictions\n",
    "pred = svc_classifier.predict(x_testcv)\n",
    "#actual\n",
    "actual=np.array(y_test)"
   ]
  },
  {
   "cell_type": "code",
   "execution_count": 18,
   "metadata": {},
   "outputs": [
    {
     "name": "stdout",
     "output_type": "stream",
     "text": [
      "We have 47 correct predictions out of 55 .\n",
      "Total 85.45454545454545 percent accuracy using Count Vectorizer.\n"
     ]
    }
   ],
   "source": [
    "count=0\n",
    "for i in range (len(pred)):\n",
    "    if pred[i]==actual[i]:\n",
    "        count=count+1\n",
    "print(\"We have\",count,\"correct predictions out of\",len(pred),\".\")\n",
    "print(\"Total\",(count/len(pred))*100,\"percent accuracy.\")"
   ]
  },
  {
   "cell_type": "markdown",
   "metadata": {},
   "source": [
    "### Linear Support Vector Classifier"
   ]
  },
  {
   "cell_type": "code",
   "execution_count": 19,
   "metadata": {},
   "outputs": [],
   "source": [
    "from sklearn.svm import LinearSVC"
   ]
  },
  {
   "cell_type": "code",
   "execution_count": 20,
   "metadata": {},
   "outputs": [],
   "source": [
    "linear_svc_classifier=LinearSVC()"
   ]
  },
  {
   "cell_type": "code",
   "execution_count": 21,
   "metadata": {},
   "outputs": [],
   "source": [
    "linear_svc_classifier.fit(x_traincv, y_train)\n",
    "# test data use \"transform()\"\n",
    "x_testcv = cv.transform(x_test)\n",
    "#predictions\n",
    "pred = linear_svc_classifier.predict(x_testcv)\n",
    "#actual\n",
    "actual=np.array(y_test)"
   ]
  },
  {
   "cell_type": "code",
   "execution_count": 22,
   "metadata": {},
   "outputs": [
    {
     "name": "stdout",
     "output_type": "stream",
     "text": [
      "We have 44 correct predictions out of 55 .\n",
      "Total 80.0 percent accuracy using Count Vectorizer.\n"
     ]
    }
   ],
   "source": [
    "count=0\n",
    "for i in range (len(pred)):\n",
    "    if pred[i]==actual[i]:\n",
    "        count=count+1\n",
    "print(\"We have\",count,\"correct predictions out of\",len(pred),\".\")\n",
    "print(\"Total\",(count/len(pred))*100,\"percent accuracy.\")"
   ]
  },
  {
   "cell_type": "markdown",
   "metadata": {},
   "source": [
    "### Support Vector Classifier w/ control of the number of support vectors (nu=0.5)"
   ]
  },
  {
   "cell_type": "code",
   "execution_count": 25,
   "metadata": {},
   "outputs": [],
   "source": [
    "from sklearn.svm import NuSVC"
   ]
  },
  {
   "cell_type": "code",
   "execution_count": 26,
   "metadata": {},
   "outputs": [],
   "source": [
    "num_svc_classifier=NuSVC(nu=.1)"
   ]
  },
  {
   "cell_type": "code",
   "execution_count": 27,
   "metadata": {},
   "outputs": [
    {
     "name": "stderr",
     "output_type": "stream",
     "text": [
      "/anaconda3/envs/diplodatos-ayv/lib/python3.5/site-packages/sklearn/svm/base.py:196: FutureWarning: The default value of gamma will change from 'auto' to 'scale' in version 0.22 to account better for unscaled features. Set gamma explicitly to 'auto' or 'scale' to avoid this warning.\n",
      "  \"avoid this warning.\", FutureWarning)\n"
     ]
    }
   ],
   "source": [
    "num_svc_classifier.fit(x_traincv, y_train)\n",
    "# test data use \"transform()\"\n",
    "x_testcv = cv.transform(x_test)\n",
    "#predictions\n",
    "pred = num_svc_classifier.predict(x_testcv)\n",
    "#actual\n",
    "actual=np.array(y_test)"
   ]
  },
  {
   "cell_type": "code",
   "execution_count": 28,
   "metadata": {},
   "outputs": [
    {
     "name": "stdout",
     "output_type": "stream",
     "text": [
      "We have 44 correct predictions out of 55 .\n",
      "Total 80.0 percent accuracy using Count Vectorizer.\n"
     ]
    }
   ],
   "source": [
    "count=0\n",
    "for i in range (len(pred)):\n",
    "    if pred[i]==actual[i]:\n",
    "        count=count+1\n",
    "print(\"We have\",count,\"correct predictions out of\",len(pred),\".\")\n",
    "print(\"Total\",(count/len(pred))*100,\"percent accuracy.\")"
   ]
  },
  {
   "cell_type": "markdown",
   "metadata": {},
   "source": [
    "### Conclusion: All classifiers perform more or less the same with our dataset, but probably because we have a small data set and, within that data set, small percentage of 'reclamos.' My suspicion is that the classifiers are just guessing \"consulta' everytime and is accurate most of the time. "
   ]
  }
 ],
 "metadata": {
  "kernelspec": {
   "display_name": "Python 3",
   "language": "python",
   "name": "python3"
  },
  "language_info": {
   "codemirror_mode": {
    "name": "ipython",
    "version": 3
   },
   "file_extension": ".py",
   "mimetype": "text/x-python",
   "name": "python",
   "nbconvert_exporter": "python",
   "pygments_lexer": "ipython3",
   "version": "3.5.6"
  }
 },
 "nbformat": 4,
 "nbformat_minor": 2
}
